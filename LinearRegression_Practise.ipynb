{
  "nbformat": 4,
  "nbformat_minor": 0,
  "metadata": {
    "colab": {
      "provenance": []
    },
    "kernelspec": {
      "name": "python3",
      "display_name": "Python 3"
    },
    "language_info": {
      "name": "python"
    }
  },
  "cells": [
    {
      "cell_type": "code",
      "execution_count": 6,
      "metadata": {
        "id": "azLdhZVSIg-7"
      },
      "outputs": [],
      "source": [
        "import tensorflow as tf\n",
        "import numpy as np\n"
      ]
    },
    {
      "cell_type": "code",
      "source": [
        "a = tf.constant([[2,2,2],\n",
        "                 [2,2,2],\n",
        "                 [2,2,2]])\n",
        "b = tf.constant([[2,2,2],\n",
        "                 [2,2,2],\n",
        "                 [2,2,2]])\n"
      ],
      "metadata": {
        "id": "58RTYBLwIj4y"
      },
      "execution_count": 7,
      "outputs": []
    },
    {
      "cell_type": "code",
      "source": [
        "c= tf.subtract(a,b)\n",
        "print(c.numpy())"
      ],
      "metadata": {
        "colab": {
          "base_uri": "https://localhost:8080/"
        },
        "id": "_oX_f5GoJYzn",
        "outputId": "a0e1e118-6675-4fc3-9730-838e5ae6cb77"
      },
      "execution_count": 17,
      "outputs": [
        {
          "output_type": "stream",
          "name": "stdout",
          "text": [
            "[[0 0 0]\n",
            " [0 0 0]\n",
            " [0 0 0]]\n"
          ]
        }
      ]
    },
    {
      "cell_type": "code",
      "source": [
        "concat_tensor= tf.concat([a,b], axis=0)\n",
        "print(concat_tensor.numpy())"
      ],
      "metadata": {
        "colab": {
          "base_uri": "https://localhost:8080/"
        },
        "id": "-1Xt0HUAJlQZ",
        "outputId": "865bb069-3d86-4d9d-90fd-dd43e51a9399"
      },
      "execution_count": 18,
      "outputs": [
        {
          "output_type": "stream",
          "name": "stdout",
          "text": [
            "[[2 2 2]\n",
            " [2 2 2]\n",
            " [2 2 2]\n",
            " [2 2 2]\n",
            " [2 2 2]\n",
            " [2 2 2]]\n"
          ]
        }
      ]
    },
    {
      "cell_type": "code",
      "source": [],
      "metadata": {
        "id": "1dcV3V_JMgku"
      },
      "execution_count": null,
      "outputs": []
    },
    {
      "cell_type": "markdown",
      "source": [
        "**LINEAR** **REGRESSION**"
      ],
      "metadata": {
        "id": "OhRXRTOfBXu4"
      }
    },
    {
      "cell_type": "code",
      "source": [
        "import matplotlib.pyplot as plt\n",
        "import numpy as np\n",
        "import tensorflow as tf"
      ],
      "metadata": {
        "id": "dfqvPuoYBWuU"
      },
      "execution_count": 3,
      "outputs": []
    },
    {
      "cell_type": "code",
      "source": [
        "x_train= np.array([1,2,3,4,5,6,7,8])\n",
        "y_train= np.array([3,6,9,12,15,18,21,23])\n",
        "# why couldnt we use tf.np([]) here to create an array?"
      ],
      "metadata": {
        "id": "R2BdiKBtBsE0"
      },
      "execution_count": 24,
      "outputs": []
    },
    {
      "cell_type": "code",
      "source": [
        "w = tf.Variable(np.random.rand())\n",
        "b = tf.Variable(np.random.rand())\n"
      ],
      "metadata": {
        "id": "ThKfcOjeCKtb"
      },
      "execution_count": 25,
      "outputs": []
    },
    {
      "cell_type": "code",
      "source": [
        "def linear_regression(x):\n",
        "    return w * x + b"
      ],
      "metadata": {
        "id": "BrZFHQgMDTFe"
      },
      "execution_count": 26,
      "outputs": []
    },
    {
      "cell_type": "code",
      "source": [
        "def mean_squared_error(y_pred, y_true):\n",
        "    return tf.reduce_mean(tf.square(y_pred - y_true))"
      ],
      "metadata": {
        "id": "FyyU20_vCyoE"
      },
      "execution_count": 27,
      "outputs": []
    },
    {
      "cell_type": "code",
      "source": [
        "optimizer= tf.optimizers.SGD(learning_rate=0.01)"
      ],
      "metadata": {
        "id": "iVgOMG7MDsa6"
      },
      "execution_count": 31,
      "outputs": []
    },
    {
      "cell_type": "code",
      "source": [
        "def train_step():\n",
        "    with tf.GradientTape() as tape:\n",
        "        y_pred = linear_regression(x_train)\n",
        "        loss = mean_squared_error(y_pred, y_train)\n",
        "    gradients = tape.gradient(loss, [w, b])\n",
        "    optimizer.apply_gradients(zip(gradients, [w, b]))"
      ],
      "metadata": {
        "id": "Q256HuNPD9-3"
      },
      "execution_count": 34,
      "outputs": []
    },
    {
      "cell_type": "code",
      "source": [
        "epochs = 1000\n",
        "for epoch in range(epochs):\n",
        "    train_step()\n",
        "    if epoch % 100 == 0:\n",
        "        print(f\"Epoch {epoch}: Loss = {mean_squared_error(linear_regression(x_train), y_train).numpy()}\")"
      ],
      "metadata": {
        "colab": {
          "base_uri": "https://localhost:8080/"
        },
        "id": "14krxy3JEGms",
        "outputId": "8c61a155-5877-4e88-d9c5-3de485d13f24"
      },
      "execution_count": 36,
      "outputs": [
        {
          "output_type": "stream",
          "name": "stdout",
          "text": [
            "Epoch 0: Loss = 5.098438262939453\n",
            "Epoch 100: Loss = 0.15897619724273682\n",
            "Epoch 200: Loss = 0.11158308386802673\n",
            "Epoch 300: Loss = 0.0902894139289856\n",
            "Epoch 400: Loss = 0.08072223514318466\n",
            "Epoch 500: Loss = 0.0764237493276596\n",
            "Epoch 600: Loss = 0.07449229806661606\n",
            "Epoch 700: Loss = 0.07362471520900726\n",
            "Epoch 800: Loss = 0.07323472201824188\n",
            "Epoch 900: Loss = 0.07305961847305298\n"
          ]
        }
      ]
    },
    {
      "cell_type": "code",
      "source": [
        "X_test = np.array([11, 12, 13, 14, 15], dtype=np.float32)\n",
        "y_pred = linear_regression(X_test)\n",
        "print(y_pred.numpy())"
      ],
      "metadata": {
        "colab": {
          "base_uri": "https://localhost:8080/"
        },
        "id": "Gx490E2jEKWa",
        "outputId": "5eb38f6b-87ac-4a12-8c16-dd5b5fc2d866"
      },
      "execution_count": 37,
      "outputs": [
        {
          "output_type": "stream",
          "name": "stdout",
          "text": [
            "[32.316376 35.22989  38.143402 41.056915 43.97043 ]\n"
          ]
        }
      ]
    },
    {
      "cell_type": "code",
      "source": [
        "plt.scatter(x_train, y_train, label=\"Actual data\")\n",
        "plt.plot(x_train, linear_regression(x_train), color='red', label=\"Predicted line\")\n",
        "plt.legend()\n",
        "plt.show()"
      ],
      "metadata": {
        "colab": {
          "base_uri": "https://localhost:8080/",
          "height": 430
        },
        "id": "uRMPMYRyFFCU",
        "outputId": "b409fb25-66a0-4743-bf37-babb2b64ce4a"
      },
      "execution_count": 40,
      "outputs": [
        {
          "output_type": "display_data",
          "data": {
            "text/plain": [
              "<Figure size 640x480 with 1 Axes>"
            ],
            "image/png": "[encoded data removed]"
          },
          "metadata": {}
        }
      ]
    },
    {
      "cell_type": "code",
      "source": [
        "x_train=np.array([1000, 1500, 2000, 2500, 3000, 3500])\n",
        "y_train= np.array([200000, 300000, 400000, 500000, 600000, 700000])"
      ],
      "metadata": {
        "id": "9BqcKtCMFIm7"
      },
      "execution_count": 43,
      "outputs": []
    },
    {
      "cell_type": "code",
      "source": [
        "w=tf.Variable(np.random.rand())\n",
        "b=tf.Variable(np.random.rand())"
      ],
      "metadata": {
        "id": "biVGSslONuN3"
      },
      "execution_count": 44,
      "outputs": []
    },
    {
      "cell_type": "code",
      "source": [
        "def linear_regression(x):\n",
        "    return w*x + b\n"
      ],
      "metadata": {
        "id": "FHW4tAUTOB8z"
      },
      "execution_count": 48,
      "outputs": []
    },
    {
      "cell_type": "code",
      "source": [
        "def mean_squared_error(y_pred, y_true):\n",
        "    return tf.reduce_mean(tf.square(y_pred - y_true))"
      ],
      "metadata": {
        "id": "9xUAXih2Oa0x"
      },
      "execution_count": 50,
      "outputs": []
    },
    {
      "cell_type": "code",
      "source": [
        "def train_step():\n",
        "    with tf.GradientTape() as tape:\n",
        "        y_pred = linear_regression(x_train)\n",
        "        loss = mean_squared_error(y_pred, y_train)\n",
        "        gradients = tape.gradient(loss, [w, b])\n",
        "        optimizer.apply_gradients(zip(gradients, [w, b]))  # Apply gradients\n"
      ],
      "metadata": {
        "id": "YUiC_HMUOOjf"
      },
      "execution_count": 59,
      "outputs": []
    },
    {
      "cell_type": "code",
      "source": [
        "optimizer = tf.optimizers.Adam(learning_rate=0.1)"
      ],
      "metadata": {
        "id": "rcYtOzYGOaI9"
      },
      "execution_count": 64,
      "outputs": []
    },
    {
      "cell_type": "code",
      "source": [
        "epoch= 500000000\n",
        "for epoch in range(epochs):\n",
        "    train_step()\n",
        "    if epoch % 100 == 0:\n",
        "        print(f\"Epoch {epoch}: Loss = {mean_squared_error(linear_regression(x_train), y_train).numpy()}\")\n"
      ],
      "metadata": {
        "colab": {
          "base_uri": "https://localhost:8080/"
        },
        "id": "2Zt6EIknOsEu",
        "outputId": "2dd078a5-c6e2-4bbc-95bd-291d42e38ce3"
      },
      "execution_count": 77,
      "outputs": [
        {
          "output_type": "stream",
          "name": "stdout",
          "text": [
            "Epoch 0: Loss = 5197074.0\n",
            "Epoch 100: Loss = 2782026.25\n",
            "Epoch 200: Loss = 1441310.125\n",
            "Epoch 300: Loss = 721896.5625\n",
            "Epoch 400: Loss = 349581.59375\n",
            "Epoch 500: Loss = 164245.3125\n",
            "Epoch 600: Loss = 75584.0859375\n",
            "Epoch 700: Loss = 34942.1796875\n",
            "Epoch 800: Loss = 17142.490234375\n",
            "Epoch 900: Loss = 9694.8466796875\n"
          ]
        }
      ]
    },
    {
      "cell_type": "code",
      "source": [
        "X_test = np.array([6000, 8000, 90000, 10000, 20000], dtype=np.float32)\n",
        "y_pred = linear_regression(X_test)\n",
        "print(y_pred.numpy())"
      ],
      "metadata": {
        "colab": {
          "base_uri": "https://localhost:8080/"
        },
        "id": "RBHasYwtO3aE",
        "outputId": "99dbb618-09b4-48f5-c6b0-539c49fab080"
      },
      "execution_count": 78,
      "outputs": [
        {
          "output_type": "stream",
          "name": "stdout",
          "text": [
            "[ 1199630.5  1599440.9 17991664.   1999251.1  3998302.8]\n"
          ]
        }
      ]
    },
    {
      "cell_type": "code",
      "source": [
        "plt.scatter(x_train, y_train, label=\"Actual data\")\n",
        "plt.plot(x_train, linear_regression(x_train), color='red', label=\"Predicted line\")\n",
        "plt.legend()\n",
        "plt.show()"
      ],
      "metadata": {
        "colab": {
          "base_uri": "https://localhost:8080/",
          "height": 430
        },
        "id": "sWjFvpQlPLqN",
        "outputId": "3ee8c806-50fb-453e-9dbb-19805c0eaa3e"
      },
      "execution_count": 79,
      "outputs": [
        {
          "output_type": "display_data",
          "data": {
            "text/plain": [
              "<Figure size 640x480 with 1 Axes>"
            ],
            "image/png": "[encoded data removed]"
          },
          "metadata": {}
        }
      ]
    },
    {
      "cell_type": "code",
      "source": [],
      "metadata": {
        "id": "0OVW0bR9PPW0"
      },
      "execution_count": null,
      "outputs": []
    }
  ]
}